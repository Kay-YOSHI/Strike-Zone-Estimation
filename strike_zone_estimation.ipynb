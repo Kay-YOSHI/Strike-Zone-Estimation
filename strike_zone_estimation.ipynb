{
 "cells": [
  {
   "cell_type": "markdown",
   "metadata": {},
   "source": [
    "# MLBにおけるストライクゾーンの推定＆可視化"
   ]
  },
  {
   "cell_type": "code",
   "execution_count": 4,
   "metadata": {},
   "outputs": [],
   "source": [
    "import numpy as np\n",
    "import pandas as pd\n",
    "\n",
    "from pybaseball import statcast"
   ]
  },
  {
   "cell_type": "code",
   "execution_count": 5,
   "metadata": {},
   "outputs": [
    {
     "name": "stdout",
     "output_type": "stream",
     "text": [
      "This is a large query, it may take a moment to complete\n"
     ]
    },
    {
     "name": "stderr",
     "output_type": "stream",
     "text": [
      "c:\\Users\\ksk01\\anaconda3\\lib\\site-packages\\pybaseball\\statcast.py:50: UserWarning: \n",
      "That's a nice request you got there. It'd be a shame if something were to happen to it.\n",
      "We strongly recommend that you enable caching before running this. It's as simple as `pybaseball.cache.enable()`.\n",
      "Since the Statcast requests can take a *really* long time to run, if something were to happen, like: a disconnect;\n",
      "gremlins; computer repair by associates of Rudy Giuliani; electromagnetic interference from metal trash cans; etc.;\n",
      "you could lose a lot of progress. Enabling caching will allow you to immediately recover all the successful\n",
      "subqueries if that happens.\n",
      "  warnings.warn(_OVERSIZE_WARNING)\n",
      "100%|██████████| 186/186 [02:32<00:00,  1.22it/s]\n"
     ]
    }
   ],
   "source": [
    "# Statcast pitch-by-pitch data on all regular season games in 2019\n",
    "mlb2019 = statcast(start_dt = '2019-03-28', end_dt = '2019-09-29')"
   ]
  },
  {
   "cell_type": "code",
   "execution_count": 14,
   "metadata": {},
   "outputs": [
    {
     "data": {
      "text/html": [
       "<div>\n",
       "<style scoped>\n",
       "    .dataframe tbody tr th:only-of-type {\n",
       "        vertical-align: middle;\n",
       "    }\n",
       "\n",
       "    .dataframe tbody tr th {\n",
       "        vertical-align: top;\n",
       "    }\n",
       "\n",
       "    .dataframe thead th {\n",
       "        text-align: right;\n",
       "    }\n",
       "</style>\n",
       "<table border=\"1\" class=\"dataframe\">\n",
       "  <thead>\n",
       "    <tr style=\"text-align: right;\">\n",
       "      <th></th>\n",
       "      <th>pitch_type</th>\n",
       "      <th>game_date</th>\n",
       "      <th>release_speed</th>\n",
       "      <th>release_pos_x</th>\n",
       "      <th>release_pos_z</th>\n",
       "      <th>player_name</th>\n",
       "      <th>batter</th>\n",
       "      <th>pitcher</th>\n",
       "      <th>events</th>\n",
       "      <th>description</th>\n",
       "      <th>...</th>\n",
       "      <th>fld_score</th>\n",
       "      <th>post_away_score</th>\n",
       "      <th>post_home_score</th>\n",
       "      <th>post_bat_score</th>\n",
       "      <th>post_fld_score</th>\n",
       "      <th>if_fielding_alignment</th>\n",
       "      <th>of_fielding_alignment</th>\n",
       "      <th>spin_axis</th>\n",
       "      <th>delta_home_win_exp</th>\n",
       "      <th>delta_run_exp</th>\n",
       "    </tr>\n",
       "  </thead>\n",
       "  <tbody>\n",
       "    <tr>\n",
       "      <th>2095</th>\n",
       "      <td>FC</td>\n",
       "      <td>2019-09-29</td>\n",
       "      <td>91.1</td>\n",
       "      <td>-2.16</td>\n",
       "      <td>6.08</td>\n",
       "      <td>Herrera, Kelvin</td>\n",
       "      <td>641513</td>\n",
       "      <td>516969</td>\n",
       "      <td>strikeout</td>\n",
       "      <td>swinging_strike</td>\n",
       "      <td>...</td>\n",
       "      <td>5</td>\n",
       "      <td>3</td>\n",
       "      <td>5</td>\n",
       "      <td>3</td>\n",
       "      <td>5</td>\n",
       "      <td>Standard</td>\n",
       "      <td>Standard</td>\n",
       "      <td>187</td>\n",
       "      <td>0.011</td>\n",
       "      <td>-0.099</td>\n",
       "    </tr>\n",
       "    <tr>\n",
       "      <th>2171</th>\n",
       "      <td>FC</td>\n",
       "      <td>2019-09-29</td>\n",
       "      <td>88.2</td>\n",
       "      <td>-2.22</td>\n",
       "      <td>6.07</td>\n",
       "      <td>Herrera, Kelvin</td>\n",
       "      <td>641513</td>\n",
       "      <td>516969</td>\n",
       "      <td>NaN</td>\n",
       "      <td>foul</td>\n",
       "      <td>...</td>\n",
       "      <td>5</td>\n",
       "      <td>3</td>\n",
       "      <td>5</td>\n",
       "      <td>3</td>\n",
       "      <td>5</td>\n",
       "      <td>Standard</td>\n",
       "      <td>Standard</td>\n",
       "      <td>158</td>\n",
       "      <td>0.0</td>\n",
       "      <td>-0.033</td>\n",
       "    </tr>\n",
       "    <tr>\n",
       "      <th>2191</th>\n",
       "      <td>FF</td>\n",
       "      <td>2019-09-29</td>\n",
       "      <td>95.8</td>\n",
       "      <td>-1.55</td>\n",
       "      <td>6.41</td>\n",
       "      <td>Herrera, Kelvin</td>\n",
       "      <td>641513</td>\n",
       "      <td>516969</td>\n",
       "      <td>NaN</td>\n",
       "      <td>ball</td>\n",
       "      <td>...</td>\n",
       "      <td>5</td>\n",
       "      <td>3</td>\n",
       "      <td>5</td>\n",
       "      <td>3</td>\n",
       "      <td>5</td>\n",
       "      <td>Standard</td>\n",
       "      <td>Standard</td>\n",
       "      <td>212</td>\n",
       "      <td>0.0</td>\n",
       "      <td>0.024</td>\n",
       "    </tr>\n",
       "    <tr>\n",
       "      <th>2335</th>\n",
       "      <td>FC</td>\n",
       "      <td>2019-09-29</td>\n",
       "      <td>90.1</td>\n",
       "      <td>-2.16</td>\n",
       "      <td>6.01</td>\n",
       "      <td>Herrera, Kelvin</td>\n",
       "      <td>641513</td>\n",
       "      <td>516969</td>\n",
       "      <td>NaN</td>\n",
       "      <td>ball</td>\n",
       "      <td>...</td>\n",
       "      <td>5</td>\n",
       "      <td>3</td>\n",
       "      <td>5</td>\n",
       "      <td>3</td>\n",
       "      <td>5</td>\n",
       "      <td>Standard</td>\n",
       "      <td>Standard</td>\n",
       "      <td>159</td>\n",
       "      <td>0.0</td>\n",
       "      <td>0.012</td>\n",
       "    </tr>\n",
       "    <tr>\n",
       "      <th>2385</th>\n",
       "      <td>FF</td>\n",
       "      <td>2019-09-29</td>\n",
       "      <td>98.2</td>\n",
       "      <td>-1.47</td>\n",
       "      <td>6.24</td>\n",
       "      <td>Herrera, Kelvin</td>\n",
       "      <td>641513</td>\n",
       "      <td>516969</td>\n",
       "      <td>NaN</td>\n",
       "      <td>called_strike</td>\n",
       "      <td>...</td>\n",
       "      <td>5</td>\n",
       "      <td>3</td>\n",
       "      <td>5</td>\n",
       "      <td>3</td>\n",
       "      <td>5</td>\n",
       "      <td>Standard</td>\n",
       "      <td>Standard</td>\n",
       "      <td>196</td>\n",
       "      <td>0.0</td>\n",
       "      <td>-0.019</td>\n",
       "    </tr>\n",
       "  </tbody>\n",
       "</table>\n",
       "<p>5 rows × 92 columns</p>\n",
       "</div>"
      ],
      "text/plain": [
       "     pitch_type  game_date  release_speed  release_pos_x  release_pos_z  \\\n",
       "2095         FC 2019-09-29           91.1          -2.16           6.08   \n",
       "2171         FC 2019-09-29           88.2          -2.22           6.07   \n",
       "2191         FF 2019-09-29           95.8          -1.55           6.41   \n",
       "2335         FC 2019-09-29           90.1          -2.16           6.01   \n",
       "2385         FF 2019-09-29           98.2          -1.47           6.24   \n",
       "\n",
       "          player_name  batter  pitcher     events      description  ...  \\\n",
       "2095  Herrera, Kelvin  641513   516969  strikeout  swinging_strike  ...   \n",
       "2171  Herrera, Kelvin  641513   516969        NaN             foul  ...   \n",
       "2191  Herrera, Kelvin  641513   516969        NaN             ball  ...   \n",
       "2335  Herrera, Kelvin  641513   516969        NaN             ball  ...   \n",
       "2385  Herrera, Kelvin  641513   516969        NaN    called_strike  ...   \n",
       "\n",
       "      fld_score  post_away_score  post_home_score  post_bat_score  \\\n",
       "2095          5                3                5               3   \n",
       "2171          5                3                5               3   \n",
       "2191          5                3                5               3   \n",
       "2335          5                3                5               3   \n",
       "2385          5                3                5               3   \n",
       "\n",
       "      post_fld_score if_fielding_alignment of_fielding_alignment spin_axis  \\\n",
       "2095               5              Standard              Standard       187   \n",
       "2171               5              Standard              Standard       158   \n",
       "2191               5              Standard              Standard       212   \n",
       "2335               5              Standard              Standard       159   \n",
       "2385               5              Standard              Standard       196   \n",
       "\n",
       "     delta_home_win_exp delta_run_exp  \n",
       "2095              0.011        -0.099  \n",
       "2171                0.0        -0.033  \n",
       "2191                0.0         0.024  \n",
       "2335                0.0         0.012  \n",
       "2385                0.0        -0.019  \n",
       "\n",
       "[5 rows x 92 columns]"
      ]
     },
     "execution_count": 14,
     "metadata": {},
     "output_type": "execute_result"
    }
   ],
   "source": [
    "mlb2019.head()"
   ]
  },
  {
   "cell_type": "code",
   "execution_count": 16,
   "metadata": {},
   "outputs": [],
   "source": [
    "# 投球座標およびストライクゾーンの上限・下限の欠損値を除いておく\n",
    "mlb = mlb2019[(mlb2019['plate_x'].notnull()) & (mlb2019['plate_z'].notnull()) & (mlb2019['sz_bot'].notnull()) & (mlb2019['sz_top'].notnull())]"
   ]
  },
  {
   "cell_type": "code",
   "execution_count": 17,
   "metadata": {},
   "outputs": [
    {
     "data": {
      "text/plain": [
       "(726716, 92)"
      ]
     },
     "execution_count": 17,
     "metadata": {},
     "output_type": "execute_result"
    }
   ],
   "source": [
    "mlb.shape"
   ]
  },
  {
   "cell_type": "code",
   "execution_count": null,
   "metadata": {},
   "outputs": [],
   "source": []
  }
 ],
 "metadata": {
  "kernelspec": {
   "display_name": "base",
   "language": "python",
   "name": "python3"
  },
  "language_info": {
   "codemirror_mode": {
    "name": "ipython",
    "version": 3
   },
   "file_extension": ".py",
   "mimetype": "text/x-python",
   "name": "python",
   "nbconvert_exporter": "python",
   "pygments_lexer": "ipython3",
   "version": "3.9.7"
  },
  "orig_nbformat": 4
 },
 "nbformat": 4,
 "nbformat_minor": 2
}
